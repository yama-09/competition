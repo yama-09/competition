{
 "cells": [
  {
   "cell_type": "markdown",
   "id": "80a6133e",
   "metadata": {},
   "source": [
    "#### K-Fold"
   ]
  },
  {
   "cell_type": "code",
   "execution_count": null,
   "id": "c11dc626",
   "metadata": {},
   "outputs": [],
   "source": [
    "from sklearn.model_selection import KFold\n",
    "\n",
    "kf = KFold(n_splits = 5, shuffle=True, random_state=0)\n",
    "\n",
    "for fold, (train_indices, valid_indices) in enumerate(kf.split(X)):\n",
    "    X_train, X_valid = X.iloc[train_indices], X.iloc[valid_indices]\n",
    "    y_train, y_valid = y.iloc[train_indices], y.iloc[valid_indices]"
   ]
  },
  {
   "cell_type": "markdown",
   "id": "65cacddd",
   "metadata": {},
   "source": [
    "#### Group K-Fold"
   ]
  },
  {
   "cell_type": "code",
   "execution_count": null,
   "id": "86f0043f",
   "metadata": {},
   "outputs": [],
   "source": [
    "from sklearn.model_selection import GroupKFold\n",
    "\n",
    "group = X['グループ化したい変数']\n",
    "\n",
    "kf = GroupKFold(n_splits = 5)\n",
    "\n",
    "for fold, (train_indices, valid_indices) in enumerate(kf.split(X, y, group)):\n",
    "    X_train, X_valid = X.iloc[train_indices], X.iloc[valid_indices]\n",
    "    y_train, y_valid = y.iloc[train_indices], y.iloc[valid_indices]"
   ]
  },
  {
   "cell_type": "markdown",
   "id": "b6e2cee6",
   "metadata": {},
   "source": [
    "#### Time series K-Fold\n",
    "\n",
    "https://blog.amedama.jp/entry/time-series-cv"
   ]
  },
  {
   "cell_type": "code",
   "execution_count": null,
   "id": "cb8489d6",
   "metadata": {},
   "outputs": [],
   "source": [
    "from sklearn.model_selection import TimeSeriesSplit\n",
    "\n",
    "\n",
    "class MovingWindowKFold(TimeSeriesSplit):\n",
    "    \"\"\"時系列情報が含まれるカラムでソートした iloc を返す KFold\"\"\"\n",
    "\n",
    "    def __init__(self, ts_column, clipping=False, *args, **kwargs):\n",
    "        super().__init__(*args, **kwargs)\n",
    "        # 時系列データのカラムの名前\n",
    "        self.ts_column = ts_column\n",
    "        # 得られる添字のリストの長さを過去最小の Fold に揃えるフラグ\n",
    "        self.clipping = clipping\n",
    "\n",
    "    def split(self, X, *args, **kwargs):\n",
    "        # 渡されるデータは DataFrame を仮定する\n",
    "        assert isinstance(X, pd.DataFrame)\n",
    "\n",
    "        # clipping が有効なときの長さの初期値\n",
    "        train_fold_min_len, test_fold_min_len = sys.maxsize, sys.maxsize\n",
    "\n",
    "        # 時系列のカラムを取り出す\n",
    "        ts = X[self.ts_column]\n",
    "        # 元々のインデックスを振り直して iloc として使える値 (0, 1, 2...) にする\n",
    "        ts_df = ts.reset_index()\n",
    "        # 時系列でソートする\n",
    "        sorted_ts_df = ts_df.sort_values(by=self.ts_column)\n",
    "        # スーパークラスのメソッドで添字を計算する\n",
    "        for train_index, test_index in super().split(sorted_ts_df, *args, **kwargs):\n",
    "            # 添字を元々の DataFrame の iloc として使える値に変換する\n",
    "            train_iloc_index = sorted_ts_df.iloc[train_index].index\n",
    "            test_iloc_index = sorted_ts_df.iloc[test_index].index\n",
    "\n",
    "            if self.clipping:\n",
    "                # TimeSeriesSplit.split() で返される Fold の大きさが徐々に大きくなることを仮定している\n",
    "                train_fold_min_len = min(train_fold_min_len, len(train_iloc_index))\n",
    "                test_fold_min_len = min(test_fold_min_len, len(test_iloc_index))\n",
    "\n",
    "            yield list(train_iloc_index[-train_fold_min_len:]), list(test_iloc_index[-test_fold_min_len:])\n",
    "\n",
    "\n",
    "\n",
    "# 特定のカラムを時系列としてソートした分割\n",
    "kf = MovingWindowKFold(ts_column='year-month', n_splits=5)\n",
    "\n",
    "for fold, (train_indices, valid_indices) in enumerate(kf.split(X)):\n",
    "    X_train, X_valid = X.iloc[train_indices], X.iloc[valid_indices]\n",
    "    y_train, y_valid = y.iloc[train_indices], y.iloc[valid_indices]   "
   ]
  }
 ],
 "metadata": {
  "kernelspec": {
   "display_name": "Python 3 (ipykernel)",
   "language": "python",
   "name": "python3"
  },
  "language_info": {
   "codemirror_mode": {
    "name": "ipython",
    "version": 3
   },
   "file_extension": ".py",
   "mimetype": "text/x-python",
   "name": "python",
   "nbconvert_exporter": "python",
   "pygments_lexer": "ipython3",
   "version": "3.9.7"
  }
 },
 "nbformat": 4,
 "nbformat_minor": 5
}
