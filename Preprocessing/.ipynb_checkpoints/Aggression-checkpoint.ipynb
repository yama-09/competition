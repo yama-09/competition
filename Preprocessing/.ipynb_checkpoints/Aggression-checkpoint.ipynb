{
 "cells": [
  {
   "cell_type": "markdown",
   "id": "ffb2983e",
   "metadata": {},
   "source": [
    "#### Aggression\n",
    "\n",
    "カテゴリデータの一種の数値化として扱うことができます．水準数が少ないカテゴリ変数はあまり効果がない可能性があります．"
   ]
  },
  {
   "cell_type": "code",
   "execution_count": null,
   "id": "bc64805b",
   "metadata": {},
   "outputs": [],
   "source": [
    "agg_cols = ['min', 'max', 'mean', 'std']\n",
    "\n",
    "for col in cat_cols:\n",
    "    grp_df = train.groupby(col)[num_cols].agg(agg_cols)\n",
    "    grp_df.columns = [f'{col}_' + '_'.join(c) for c in grp_df.columns]\n",
    "    train = train.merge(grp_df, on=col, how='left')\n",
    "    test = test.merge(grp_df, on=col, how='left')    "
   ]
  }
 ],
 "metadata": {
  "kernelspec": {
   "display_name": "Python 3 (ipykernel)",
   "language": "python",
   "name": "python3"
  },
  "language_info": {
   "codemirror_mode": {
    "name": "ipython",
    "version": 3
   },
   "file_extension": ".py",
   "mimetype": "text/x-python",
   "name": "python",
   "nbconvert_exporter": "python",
   "pygments_lexer": "ipython3",
   "version": "3.9.7"
  }
 },
 "nbformat": 4,
 "nbformat_minor": 5
}
