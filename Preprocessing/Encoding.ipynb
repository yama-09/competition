{
 "cells": [
  {
   "cell_type": "markdown",
   "id": "a941cb09",
   "metadata": {},
   "source": [
    "#### Count Encoding\n",
    "カテゴリ変数を出現回数に置き換える手法で，例えば「赤，青，青，黄」と並んでいれば出現回数は赤は1回，青は2回，黄は1回なので「1, 2, 2, 1」と数値化します．"
   ]
  },
  {
   "cell_type": "code",
   "execution_count": null,
   "id": "8c0cef89",
   "metadata": {},
   "outputs": [],
   "source": [
    "cat_cols = list(df.select_dtypes(object).columns)\n",
    "for col in cat_cols:\n",
    "    encoder = train[col].value_counts()\n",
    "    train[f'label_{col}'] = train[col].map(encoder)\n",
    "    test[f'label_{col}'] = test[col].map(encoder)"
   ]
  },
  {
   "cell_type": "markdown",
   "id": "44e286d3",
   "metadata": {},
   "source": [
    "#### Label Encoding\n",
    "\n",
    "単純に数値ラベルに変換する手法で，例えば「赤，青，青，黄」と並んでいれば赤を0，青を1，黄を2と置き換えて「0, 1, 1, 2」と数値化します．次元数を増やさずGBDTなどの決定木に有効なEncodingです．"
   ]
  },
  {
   "cell_type": "code",
   "execution_count": null,
   "id": "44e9fb7c",
   "metadata": {},
   "outputs": [],
   "source": [
    "from sklearn.preprocessing import LabelEncoder\n",
    "\n",
    "cat_cols = [\"カテゴリー名\"]\n",
    "for col in cat_cols:\n",
    "    encoder = LabelEncoder()\n",
    "    encoder.fit(train[col])\n",
    "    train[f'label_{col}'] = encoder.transform(train[col])\n",
    "    test[f'label_{col}'] = encoder.transform(test[col])"
   ]
  },
  {
   "cell_type": "markdown",
   "id": "707c0a05",
   "metadata": {},
   "source": [
    "#### One-hot Encoding\n",
    "\n",
    "例えばある列に「赤，青，青，黄」と並んでいた時，新しい列として「赤であるか，青であるか，黄色であるか」と水準数分作成して，正しければ1，異なれば0とダミー変数化する手法です．決定木以外のモデルに使われるEncodingです．"
   ]
  },
  {
   "cell_type": "code",
   "execution_count": null,
   "id": "979e59a0",
   "metadata": {},
   "outputs": [],
   "source": [
    "from sklearn.preprocessing import OneHotEncoder\n",
    "\n",
    "cat_cols = [\"カテゴリー名\"]\n",
    "for col in cat_cols:\n",
    "    encoder = OneHotEncoder()\n",
    "    encoder.fit(train[col])\n",
    "    train[f'label_{col}'] = encoder.transform(train[col])\n",
    "    test[f'label_{col}'] = encoder.transform(test[col])"
   ]
  },
  {
   "cell_type": "markdown",
   "id": "7b875ef3",
   "metadata": {},
   "source": [
    "#### Target Encoding\n",
    "\n",
    "カテゴリ変数をそれぞれ目的変数の期待値に置き換える手法です．Cardinality(水準数)が高いほど効果が期待される手法ですが，trainとtestの分布が異なっていたり，学習時のデータの分割に合わせて処理しなければリーク(学習時のスコアが異常に高くなってしまう)してしまう恐れがあります．\n",
    "\n",
    "Cardinalityが高い場合にGDBTの特性上，Label EncodingよりもTarget Encodingのほうが効率的である。"
   ]
  },
  {
   "cell_type": "code",
   "execution_count": null,
   "id": "3d38f8b8",
   "metadata": {},
   "outputs": [],
   "source": [
    "from sklearn.model_selection import KFold\n",
    "\n",
    "def get_kfold(train, n_splits, seed):\n",
    "    kf = KFold(n_splits=n_splits, shuffle=True, random_state=seed)\n",
    "    fold_series = []\n",
    "    for fold, (idx_train, idx_valid) in enumerate(kf.split(train)):\n",
    "        fold_series.append(pd.Series(fold, index=idx_valid))\n",
    "    fold_series = pd.concat(fold_series).sort_index()\n",
    "    return fold_series\n",
    "    \n",
    "def get_targetencoding(train, test, folds: pd.Series, col: str):\n",
    "    for fold in folds.unique():\n",
    "        idx_train, idx_valid = (folds!=fold), (folds==fold)\n",
    "        group = train[idx_train].groupby(col)['target'].mean().to_dict()\n",
    "        train.loc[idx_valid, f'target_{col}'] = train.loc[idx_valid, col].map(group)\n",
    "    group = train.groupby(col)['target'].mean().to_dict()\n",
    "    test[f'target_{col}'] = test[col].map(group)\n",
    "    return train, test\n",
    "\n",
    "folds = get_kfold(train, 5, 42)\n",
    "for col in cat_cols:\n",
    "    train, test = get_targetencoding(train, test, folds, col)"
   ]
  }
 ],
 "metadata": {
  "kernelspec": {
   "display_name": "Python 3 (ipykernel)",
   "language": "python",
   "name": "python3"
  },
  "language_info": {
   "codemirror_mode": {
    "name": "ipython",
    "version": 3
   },
   "file_extension": ".py",
   "mimetype": "text/x-python",
   "name": "python",
   "nbconvert_exporter": "python",
   "pygments_lexer": "ipython3",
   "version": "3.9.7"
  }
 },
 "nbformat": 4,
 "nbformat_minor": 5
}
